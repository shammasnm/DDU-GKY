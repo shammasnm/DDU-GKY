{
 "cells": [
  {
   "cell_type": "code",
   "execution_count": 36,
   "id": "95df5564",
   "metadata": {},
   "outputs": [],
   "source": [
    "import numpy as np\n",
    "import pandas as pd\n",
    "import matplotlib.pyplot as plt\n",
    "import seaborn as sns\n",
    "from sklearn.linear_model import LinearRegression\n",
    "from sklearn.metrics import r2_score,mean_absolute_error,mean_squared_error\n",
    "from sklearn.model_selection import train_test_split\n",
    "from sklearn.preprocessing import StandardScaler\n",
    "import warnings\n",
    "warnings.filterwarnings(\"ignore\")\n",
    "import klib as k"
   ]
  },
  {
   "cell_type": "code",
   "execution_count": 2,
   "id": "27ca1348",
   "metadata": {},
   "outputs": [
    {
     "data": {
      "text/html": [
       "<div>\n",
       "<style scoped>\n",
       "    .dataframe tbody tr th:only-of-type {\n",
       "        vertical-align: middle;\n",
       "    }\n",
       "\n",
       "    .dataframe tbody tr th {\n",
       "        vertical-align: top;\n",
       "    }\n",
       "\n",
       "    .dataframe thead th {\n",
       "        text-align: right;\n",
       "    }\n",
       "</style>\n",
       "<table border=\"1\" class=\"dataframe\">\n",
       "  <thead>\n",
       "    <tr style=\"text-align: right;\">\n",
       "      <th></th>\n",
       "      <th>TV</th>\n",
       "      <th>Radio</th>\n",
       "      <th>Newspaper</th>\n",
       "      <th>Sales</th>\n",
       "    </tr>\n",
       "  </thead>\n",
       "  <tbody>\n",
       "    <tr>\n",
       "      <th>0</th>\n",
       "      <td>230.1</td>\n",
       "      <td>37.8</td>\n",
       "      <td>69.2</td>\n",
       "      <td>22.1</td>\n",
       "    </tr>\n",
       "    <tr>\n",
       "      <th>1</th>\n",
       "      <td>44.5</td>\n",
       "      <td>39.3</td>\n",
       "      <td>45.1</td>\n",
       "      <td>10.4</td>\n",
       "    </tr>\n",
       "    <tr>\n",
       "      <th>2</th>\n",
       "      <td>17.2</td>\n",
       "      <td>45.9</td>\n",
       "      <td>69.3</td>\n",
       "      <td>12.0</td>\n",
       "    </tr>\n",
       "    <tr>\n",
       "      <th>3</th>\n",
       "      <td>151.5</td>\n",
       "      <td>41.3</td>\n",
       "      <td>58.5</td>\n",
       "      <td>16.5</td>\n",
       "    </tr>\n",
       "    <tr>\n",
       "      <th>4</th>\n",
       "      <td>180.8</td>\n",
       "      <td>10.8</td>\n",
       "      <td>58.4</td>\n",
       "      <td>17.9</td>\n",
       "    </tr>\n",
       "    <tr>\n",
       "      <th>...</th>\n",
       "      <td>...</td>\n",
       "      <td>...</td>\n",
       "      <td>...</td>\n",
       "      <td>...</td>\n",
       "    </tr>\n",
       "    <tr>\n",
       "      <th>195</th>\n",
       "      <td>38.2</td>\n",
       "      <td>3.7</td>\n",
       "      <td>13.8</td>\n",
       "      <td>7.6</td>\n",
       "    </tr>\n",
       "    <tr>\n",
       "      <th>196</th>\n",
       "      <td>94.2</td>\n",
       "      <td>4.9</td>\n",
       "      <td>8.1</td>\n",
       "      <td>14.0</td>\n",
       "    </tr>\n",
       "    <tr>\n",
       "      <th>197</th>\n",
       "      <td>177.0</td>\n",
       "      <td>9.3</td>\n",
       "      <td>6.4</td>\n",
       "      <td>14.8</td>\n",
       "    </tr>\n",
       "    <tr>\n",
       "      <th>198</th>\n",
       "      <td>283.6</td>\n",
       "      <td>42.0</td>\n",
       "      <td>66.2</td>\n",
       "      <td>25.5</td>\n",
       "    </tr>\n",
       "    <tr>\n",
       "      <th>199</th>\n",
       "      <td>232.1</td>\n",
       "      <td>8.6</td>\n",
       "      <td>8.7</td>\n",
       "      <td>18.4</td>\n",
       "    </tr>\n",
       "  </tbody>\n",
       "</table>\n",
       "<p>200 rows × 4 columns</p>\n",
       "</div>"
      ],
      "text/plain": [
       "        TV  Radio  Newspaper  Sales\n",
       "0    230.1   37.8       69.2   22.1\n",
       "1     44.5   39.3       45.1   10.4\n",
       "2     17.2   45.9       69.3   12.0\n",
       "3    151.5   41.3       58.5   16.5\n",
       "4    180.8   10.8       58.4   17.9\n",
       "..     ...    ...        ...    ...\n",
       "195   38.2    3.7       13.8    7.6\n",
       "196   94.2    4.9        8.1   14.0\n",
       "197  177.0    9.3        6.4   14.8\n",
       "198  283.6   42.0       66.2   25.5\n",
       "199  232.1    8.6        8.7   18.4\n",
       "\n",
       "[200 rows x 4 columns]"
      ]
     },
     "execution_count": 2,
     "metadata": {},
     "output_type": "execute_result"
    }
   ],
   "source": [
    "df=pd.read_csv(\"C:\\\\Users\\\\USER\\\\DA\\\\Data Sets\\\\advertising.csv\")\n",
    "df"
   ]
  },
  {
   "cell_type": "code",
   "execution_count": 3,
   "id": "8a73700a",
   "metadata": {},
   "outputs": [
    {
     "data": {
      "text/html": [
       "<div>\n",
       "<style scoped>\n",
       "    .dataframe tbody tr th:only-of-type {\n",
       "        vertical-align: middle;\n",
       "    }\n",
       "\n",
       "    .dataframe tbody tr th {\n",
       "        vertical-align: top;\n",
       "    }\n",
       "\n",
       "    .dataframe thead th {\n",
       "        text-align: right;\n",
       "    }\n",
       "</style>\n",
       "<table border=\"1\" class=\"dataframe\">\n",
       "  <thead>\n",
       "    <tr style=\"text-align: right;\">\n",
       "      <th></th>\n",
       "      <th>TV</th>\n",
       "      <th>Radio</th>\n",
       "      <th>Newspaper</th>\n",
       "      <th>Sales</th>\n",
       "    </tr>\n",
       "  </thead>\n",
       "  <tbody>\n",
       "    <tr>\n",
       "      <th>0</th>\n",
       "      <td>230.1</td>\n",
       "      <td>37.8</td>\n",
       "      <td>69.2</td>\n",
       "      <td>22.1</td>\n",
       "    </tr>\n",
       "    <tr>\n",
       "      <th>1</th>\n",
       "      <td>44.5</td>\n",
       "      <td>39.3</td>\n",
       "      <td>45.1</td>\n",
       "      <td>10.4</td>\n",
       "    </tr>\n",
       "    <tr>\n",
       "      <th>2</th>\n",
       "      <td>17.2</td>\n",
       "      <td>45.9</td>\n",
       "      <td>69.3</td>\n",
       "      <td>12.0</td>\n",
       "    </tr>\n",
       "    <tr>\n",
       "      <th>3</th>\n",
       "      <td>151.5</td>\n",
       "      <td>41.3</td>\n",
       "      <td>58.5</td>\n",
       "      <td>16.5</td>\n",
       "    </tr>\n",
       "    <tr>\n",
       "      <th>4</th>\n",
       "      <td>180.8</td>\n",
       "      <td>10.8</td>\n",
       "      <td>58.4</td>\n",
       "      <td>17.9</td>\n",
       "    </tr>\n",
       "  </tbody>\n",
       "</table>\n",
       "</div>"
      ],
      "text/plain": [
       "      TV  Radio  Newspaper  Sales\n",
       "0  230.1   37.8       69.2   22.1\n",
       "1   44.5   39.3       45.1   10.4\n",
       "2   17.2   45.9       69.3   12.0\n",
       "3  151.5   41.3       58.5   16.5\n",
       "4  180.8   10.8       58.4   17.9"
      ]
     },
     "execution_count": 3,
     "metadata": {},
     "output_type": "execute_result"
    }
   ],
   "source": [
    "df.head()"
   ]
  },
  {
   "cell_type": "code",
   "execution_count": 4,
   "id": "dccbf590",
   "metadata": {},
   "outputs": [
    {
     "data": {
      "text/html": [
       "<div>\n",
       "<style scoped>\n",
       "    .dataframe tbody tr th:only-of-type {\n",
       "        vertical-align: middle;\n",
       "    }\n",
       "\n",
       "    .dataframe tbody tr th {\n",
       "        vertical-align: top;\n",
       "    }\n",
       "\n",
       "    .dataframe thead th {\n",
       "        text-align: right;\n",
       "    }\n",
       "</style>\n",
       "<table border=\"1\" class=\"dataframe\">\n",
       "  <thead>\n",
       "    <tr style=\"text-align: right;\">\n",
       "      <th></th>\n",
       "      <th>TV</th>\n",
       "      <th>Radio</th>\n",
       "      <th>Newspaper</th>\n",
       "      <th>Sales</th>\n",
       "    </tr>\n",
       "  </thead>\n",
       "  <tbody>\n",
       "    <tr>\n",
       "      <th>195</th>\n",
       "      <td>38.2</td>\n",
       "      <td>3.7</td>\n",
       "      <td>13.8</td>\n",
       "      <td>7.6</td>\n",
       "    </tr>\n",
       "    <tr>\n",
       "      <th>196</th>\n",
       "      <td>94.2</td>\n",
       "      <td>4.9</td>\n",
       "      <td>8.1</td>\n",
       "      <td>14.0</td>\n",
       "    </tr>\n",
       "    <tr>\n",
       "      <th>197</th>\n",
       "      <td>177.0</td>\n",
       "      <td>9.3</td>\n",
       "      <td>6.4</td>\n",
       "      <td>14.8</td>\n",
       "    </tr>\n",
       "    <tr>\n",
       "      <th>198</th>\n",
       "      <td>283.6</td>\n",
       "      <td>42.0</td>\n",
       "      <td>66.2</td>\n",
       "      <td>25.5</td>\n",
       "    </tr>\n",
       "    <tr>\n",
       "      <th>199</th>\n",
       "      <td>232.1</td>\n",
       "      <td>8.6</td>\n",
       "      <td>8.7</td>\n",
       "      <td>18.4</td>\n",
       "    </tr>\n",
       "  </tbody>\n",
       "</table>\n",
       "</div>"
      ],
      "text/plain": [
       "        TV  Radio  Newspaper  Sales\n",
       "195   38.2    3.7       13.8    7.6\n",
       "196   94.2    4.9        8.1   14.0\n",
       "197  177.0    9.3        6.4   14.8\n",
       "198  283.6   42.0       66.2   25.5\n",
       "199  232.1    8.6        8.7   18.4"
      ]
     },
     "execution_count": 4,
     "metadata": {},
     "output_type": "execute_result"
    }
   ],
   "source": [
    "df.tail()"
   ]
  },
  {
   "cell_type": "code",
   "execution_count": 5,
   "id": "f00953fd",
   "metadata": {},
   "outputs": [
    {
     "name": "stdout",
     "output_type": "stream",
     "text": [
      "<class 'pandas.core.frame.DataFrame'>\n",
      "RangeIndex: 200 entries, 0 to 199\n",
      "Data columns (total 4 columns):\n",
      " #   Column     Non-Null Count  Dtype  \n",
      "---  ------     --------------  -----  \n",
      " 0   TV         200 non-null    float64\n",
      " 1   Radio      200 non-null    float64\n",
      " 2   Newspaper  200 non-null    float64\n",
      " 3   Sales      200 non-null    float64\n",
      "dtypes: float64(4)\n",
      "memory usage: 6.4 KB\n"
     ]
    }
   ],
   "source": [
    "df.info()"
   ]
  },
  {
   "cell_type": "code",
   "execution_count": 6,
   "id": "01d9de04",
   "metadata": {},
   "outputs": [
    {
     "data": {
      "text/plain": [
       "TV           0\n",
       "Radio        0\n",
       "Newspaper    0\n",
       "Sales        0\n",
       "dtype: int64"
      ]
     },
     "execution_count": 6,
     "metadata": {},
     "output_type": "execute_result"
    }
   ],
   "source": [
    "df.isnull().sum()"
   ]
  },
  {
   "cell_type": "code",
   "execution_count": 7,
   "id": "abaa5aa9",
   "metadata": {},
   "outputs": [
    {
     "data": {
      "image/png": "[encoded data removed]",
      "text/plain": [
       "<Figure size 640x480 with 1 Axes>"
      ]
     },
     "metadata": {},
     "output_type": "display_data"
    },
    {
     "data": {
      "image/png": "[encoded data removed]",
      "text/plain": [
       "<Figure size 640x480 with 1 Axes>"
      ]
     },
     "metadata": {},
     "output_type": "display_data"
    },
    {
     "data": {
      "image/png": "[encoded data removed]",
      "text/plain": [
       "<Figure size 640x480 with 1 Axes>"
      ]
     },
     "metadata": {},
     "output_type": "display_data"
    },
    {
     "data": {
      "image/png": "[encoded data removed]",
      "text/plain": [
       "<Figure size 640x480 with 1 Axes>"
      ]
     },
     "metadata": {},
     "output_type": "display_data"
    }
   ],
   "source": [
    "for i in df.columns:\n",
    "    sns.boxplot(y=df[i],color=\"red\")\n",
    "    plt.show()"
   ]
  },
  {
   "cell_type": "code",
   "execution_count": 8,
   "id": "6014c6b5",
   "metadata": {},
   "outputs": [],
   "source": [
    "def outlier_limit(col):\n",
    "    Q3,Q1=np.nanpercentile (col,[75,25])\n",
    "    IQR=Q3-Q1\n",
    "    UL=Q3+1.5*IQR\n",
    "    LL=Q1-1.5*IQR\n",
    "    return UL,LL"
   ]
  },
  {
   "cell_type": "code",
   "execution_count": 9,
   "id": "9c50ff2e",
   "metadata": {},
   "outputs": [],
   "source": [
    "for colmn in df.columns:\n",
    "    UL,LL=outlier_limit(df[colmn])\n",
    "    df[colmn]=np.where((df[colmn]>UL)|(df[colmn]<LL),np.nan,df[colmn])"
   ]
  },
  {
   "cell_type": "code",
   "execution_count": 10,
   "id": "2e15e0ab",
   "metadata": {},
   "outputs": [
    {
     "data": {
      "image/png": "[encoded data removed]",
      "text/plain": [
       "<Figure size 640x480 with 1 Axes>"
      ]
     },
     "metadata": {},
     "output_type": "display_data"
    },
    {
     "data": {
      "image/png": "[encoded data removed]",
      "text/plain": [
       "<Figure size 640x480 with 1 Axes>"
      ]
     },
     "metadata": {},
     "output_type": "display_data"
    },
    {
     "data": {
      "image/png": "[encoded data removed]",
      "text/plain": [
       "<Figure size 640x480 with 1 Axes>"
      ]
     },
     "metadata": {},
     "output_type": "display_data"
    },
    {
     "data": {
      "image/png": "[encoded data removed]",
      "text/plain": [
       "<Figure size 640x480 with 1 Axes>"
      ]
     },
     "metadata": {},
     "output_type": "display_data"
    }
   ],
   "source": [
    "for i in df.columns:\n",
    "    sns.boxplot(y=df[i],color=\"green\")\n",
    "    plt.show();"
   ]
  },
  {
   "cell_type": "code",
   "execution_count": 30,
   "id": "d693f29a",
   "metadata": {},
   "outputs": [
    {
     "data": {
      "text/plain": [
       "TV           0\n",
       "Radio        0\n",
       "Newspaper    2\n",
       "Sales        0\n",
       "dtype: int64"
      ]
     },
     "execution_count": 30,
     "metadata": {},
     "output_type": "execute_result"
    }
   ],
   "source": [
    "df.isnull().sum()"
   ]
  },
  {
   "cell_type": "code",
   "execution_count": 31,
   "id": "2c76116b",
   "metadata": {},
   "outputs": [],
   "source": [
    "df.dropna(inplace=True)"
   ]
  },
  {
   "cell_type": "code",
   "execution_count": 32,
   "id": "fd9aed3f",
   "metadata": {},
   "outputs": [
    {
     "data": {
      "text/plain": [
       "TV           0\n",
       "Radio        0\n",
       "Newspaper    0\n",
       "Sales        0\n",
       "dtype: int64"
      ]
     },
     "execution_count": 32,
     "metadata": {},
     "output_type": "execute_result"
    }
   ],
   "source": [
    "df.isnull().sum()"
   ]
  },
  {
   "cell_type": "code",
   "execution_count": 41,
   "id": "8642d558",
   "metadata": {},
   "outputs": [
    {
     "data": {
      "text/plain": [
       "<AxesSubplot:title={'center':'Feature-correlation (pearson)'}>"
      ]
     },
     "execution_count": 41,
     "metadata": {},
     "output_type": "execute_result"
    },
    {
     "data": {
      "image/png": "[encoded data removed]",
      "text/plain": [
       "<Figure size 1200x1000 with 2 Axes>"
      ]
     },
     "metadata": {},
     "output_type": "display_data"
    }
   ],
   "source": [
    "k.corr_plot(data=df,target=\"Sales\")"
   ]
  },
  {
   "cell_type": "code",
   "execution_count": 12,
   "id": "8badb645",
   "metadata": {},
   "outputs": [
    {
     "data": {
      "text/plain": [
       "296.4"
      ]
     },
     "execution_count": 12,
     "metadata": {},
     "output_type": "execute_result"
    }
   ],
   "source": [
    "df[\"TV\"].max()"
   ]
  },
  {
   "cell_type": "code",
   "execution_count": 13,
   "id": "f3d308bf",
   "metadata": {},
   "outputs": [
    {
     "name": "stdout",
     "output_type": "stream",
     "text": [
      "<class 'pandas.core.frame.DataFrame'>\n",
      "RangeIndex: 200 entries, 0 to 199\n",
      "Data columns (total 4 columns):\n",
      " #   Column     Non-Null Count  Dtype  \n",
      "---  ------     --------------  -----  \n",
      " 0   TV         200 non-null    float64\n",
      " 1   Radio      200 non-null    float64\n",
      " 2   Newspaper  198 non-null    float64\n",
      " 3   Sales      200 non-null    float64\n",
      "dtypes: float64(4)\n",
      "memory usage: 6.4 KB\n"
     ]
    }
   ],
   "source": [
    "df.info()"
   ]
  },
  {
   "cell_type": "code",
   "execution_count": 43,
   "id": "27a4ba34",
   "metadata": {},
   "outputs": [
    {
     "data": {
      "text/plain": [
       "0"
      ]
     },
     "execution_count": 43,
     "metadata": {},
     "output_type": "execute_result"
    }
   ],
   "source": [
    "df.duplicated().sum()"
   ]
  },
  {
   "cell_type": "code",
   "execution_count": 44,
   "id": "c4796f24",
   "metadata": {},
   "outputs": [],
   "source": [
    "x=df[[\"TV\",\"Radio\"]].values"
   ]
  },
  {
   "cell_type": "code",
   "execution_count": 45,
   "id": "35535051",
   "metadata": {},
   "outputs": [
    {
     "data": {
      "text/plain": [
       "array([[230.1,  37.8],\n",
       "       [ 44.5,  39.3],\n",
       "       [ 17.2,  45.9],\n",
       "       [151.5,  41.3],\n",
       "       [180.8,  10.8],\n",
       "       [  8.7,  48.9],\n",
       "       [ 57.5,  32.8],\n",
       "       [120.2,  19.6],\n",
       "       [  8.6,   2.1],\n",
       "       [199.8,   2.6],\n",
       "       [ 66.1,   5.8],\n",
       "       [214.7,  24. ],\n",
       "       [ 23.8,  35.1],\n",
       "       [ 97.5,   7.6],\n",
       "       [204.1,  32.9],\n",
       "       [195.4,  47.7],\n",
       "       [281.4,  39.6],\n",
       "       [ 69.2,  20.5],\n",
       "       [147.3,  23.9],\n",
       "       [218.4,  27.7],\n",
       "       [237.4,   5.1],\n",
       "       [ 13.2,  15.9],\n",
       "       [228.3,  16.9],\n",
       "       [ 62.3,  12.6],\n",
       "       [262.9,   3.5],\n",
       "       [142.9,  29.3],\n",
       "       [240.1,  16.7],\n",
       "       [248.8,  27.1],\n",
       "       [ 70.6,  16. ],\n",
       "       [292.9,  28.3],\n",
       "       [112.9,  17.4],\n",
       "       [ 97.2,   1.5],\n",
       "       [265.6,  20. ],\n",
       "       [ 95.7,   1.4],\n",
       "       [290.7,   4.1],\n",
       "       [266.9,  43.8],\n",
       "       [ 74.7,  49.4],\n",
       "       [ 43.1,  26.7],\n",
       "       [228. ,  37.7],\n",
       "       [202.5,  22.3],\n",
       "       [177. ,  33.4],\n",
       "       [293.6,  27.7],\n",
       "       [206.9,   8.4],\n",
       "       [ 25.1,  25.7],\n",
       "       [175.1,  22.5],\n",
       "       [ 89.7,   9.9],\n",
       "       [239.9,  41.5],\n",
       "       [227.2,  15.8],\n",
       "       [ 66.9,  11.7],\n",
       "       [199.8,   3.1],\n",
       "       [100.4,   9.6],\n",
       "       [216.4,  41.7],\n",
       "       [182.6,  46.2],\n",
       "       [262.7,  28.8],\n",
       "       [198.9,  49.4],\n",
       "       [  7.3,  28.1],\n",
       "       [136.2,  19.2],\n",
       "       [210.8,  49.6],\n",
       "       [210.7,  29.5],\n",
       "       [ 53.5,   2. ],\n",
       "       [261.3,  42.7],\n",
       "       [239.3,  15.5],\n",
       "       [102.7,  29.6],\n",
       "       [131.1,  42.8],\n",
       "       [ 69. ,   9.3],\n",
       "       [ 31.5,  24.6],\n",
       "       [139.3,  14.5],\n",
       "       [237.4,  27.5],\n",
       "       [216.8,  43.9],\n",
       "       [199.1,  30.6],\n",
       "       [109.8,  14.3],\n",
       "       [ 26.8,  33. ],\n",
       "       [129.4,   5.7],\n",
       "       [213.4,  24.6],\n",
       "       [ 16.9,  43.7],\n",
       "       [ 27.5,   1.6],\n",
       "       [120.5,  28.5],\n",
       "       [  5.4,  29.9],\n",
       "       [116. ,   7.7],\n",
       "       [ 76.4,  26.7],\n",
       "       [239.8,   4.1],\n",
       "       [ 75.3,  20.3],\n",
       "       [ 68.4,  44.5],\n",
       "       [213.5,  43. ],\n",
       "       [193.2,  18.4],\n",
       "       [ 76.3,  27.5],\n",
       "       [110.7,  40.6],\n",
       "       [ 88.3,  25.5],\n",
       "       [109.8,  47.8],\n",
       "       [134.3,   4.9],\n",
       "       [ 28.6,   1.5],\n",
       "       [217.7,  33.5],\n",
       "       [250.9,  36.5],\n",
       "       [107.4,  14. ],\n",
       "       [163.3,  31.6],\n",
       "       [197.6,   3.5],\n",
       "       [184.9,  21. ],\n",
       "       [289.7,  42.3],\n",
       "       [135.2,  41.7],\n",
       "       [222.4,   4.3],\n",
       "       [280.2,  10.1],\n",
       "       [187.9,  17.2],\n",
       "       [238.2,  34.3],\n",
       "       [137.9,  46.4],\n",
       "       [ 25. ,  11. ],\n",
       "       [ 90.4,   0.3],\n",
       "       [ 13.1,   0.4],\n",
       "       [255.4,  26.9],\n",
       "       [225.8,   8.2],\n",
       "       [241.7,  38. ],\n",
       "       [175.7,  15.4],\n",
       "       [209.6,  20.6],\n",
       "       [ 78.2,  46.8],\n",
       "       [ 75.1,  35. ],\n",
       "       [139.2,  14.3],\n",
       "       [ 76.4,   0.8],\n",
       "       [125.7,  36.9],\n",
       "       [ 19.4,  16. ],\n",
       "       [141.3,  26.8],\n",
       "       [ 18.8,  21.7],\n",
       "       [224. ,   2.4],\n",
       "       [123.1,  34.6],\n",
       "       [229.5,  32.3],\n",
       "       [ 87.2,  11.8],\n",
       "       [  7.8,  38.9],\n",
       "       [ 80.2,   0. ],\n",
       "       [220.3,  49. ],\n",
       "       [ 59.6,  12. ],\n",
       "       [  0.7,  39.6],\n",
       "       [265.2,   2.9],\n",
       "       [  8.4,  27.2],\n",
       "       [219.8,  33.5],\n",
       "       [ 36.9,  38.6],\n",
       "       [ 48.3,  47. ],\n",
       "       [ 25.6,  39. ],\n",
       "       [273.7,  28.9],\n",
       "       [ 43. ,  25.9],\n",
       "       [184.9,  43.9],\n",
       "       [ 73.4,  17. ],\n",
       "       [193.7,  35.4],\n",
       "       [220.5,  33.2],\n",
       "       [104.6,   5.7],\n",
       "       [ 96.2,  14.8],\n",
       "       [140.3,   1.9],\n",
       "       [240.1,   7.3],\n",
       "       [243.2,  49. ],\n",
       "       [ 38. ,  40.3],\n",
       "       [ 44.7,  25.8],\n",
       "       [280.7,  13.9],\n",
       "       [121. ,   8.4],\n",
       "       [197.6,  23.3],\n",
       "       [171.3,  39.7],\n",
       "       [187.8,  21.1],\n",
       "       [  4.1,  11.6],\n",
       "       [ 93.9,  43.5],\n",
       "       [149.8,   1.3],\n",
       "       [ 11.7,  36.9],\n",
       "       [131.7,  18.4],\n",
       "       [172.5,  18.1],\n",
       "       [ 85.7,  35.8],\n",
       "       [188.4,  18.1],\n",
       "       [163.5,  36.8],\n",
       "       [117.2,  14.7],\n",
       "       [234.5,   3.4],\n",
       "       [ 17.9,  37.6],\n",
       "       [206.8,   5.2],\n",
       "       [215.4,  23.6],\n",
       "       [284.3,  10.6],\n",
       "       [ 50. ,  11.6],\n",
       "       [164.5,  20.9],\n",
       "       [ 19.6,  20.1],\n",
       "       [168.4,   7.1],\n",
       "       [222.4,   3.4],\n",
       "       [276.9,  48.9],\n",
       "       [248.4,  30.2],\n",
       "       [170.2,   7.8],\n",
       "       [276.7,   2.3],\n",
       "       [165.6,  10. ],\n",
       "       [156.6,   2.6],\n",
       "       [218.5,   5.4],\n",
       "       [ 56.2,   5.7],\n",
       "       [287.6,  43. ],\n",
       "       [253.8,  21.3],\n",
       "       [205. ,  45.1],\n",
       "       [139.5,   2.1],\n",
       "       [191.1,  28.7],\n",
       "       [286. ,  13.9],\n",
       "       [ 18.7,  12.1],\n",
       "       [ 39.5,  41.1],\n",
       "       [ 75.5,  10.8],\n",
       "       [ 17.2,   4.1],\n",
       "       [166.8,  42. ],\n",
       "       [149.7,  35.6],\n",
       "       [ 38.2,   3.7],\n",
       "       [ 94.2,   4.9],\n",
       "       [177. ,   9.3],\n",
       "       [283.6,  42. ],\n",
       "       [232.1,   8.6]])"
      ]
     },
     "execution_count": 45,
     "metadata": {},
     "output_type": "execute_result"
    }
   ],
   "source": [
    "x"
   ]
  },
  {
   "cell_type": "code",
   "execution_count": 63,
   "id": "2d36b435",
   "metadata": {},
   "outputs": [],
   "source": [
    "sc=StandardScaler()"
   ]
  },
  {
   "cell_type": "code",
   "execution_count": 64,
   "id": "50bf4e25",
   "metadata": {},
   "outputs": [],
   "source": [
    "x=sc.fit_transform(x)"
   ]
  },
  {
   "cell_type": "code",
   "execution_count": 65,
   "id": "57b7b1bd",
   "metadata": {},
   "outputs": [],
   "source": [
    "y=df[[\"Sales\"]].values"
   ]
  },
  {
   "cell_type": "code",
   "execution_count": 66,
   "id": "a185689e",
   "metadata": {},
   "outputs": [
    {
     "data": {
      "text/plain": [
       "array([[22.1],\n",
       "       [10.4],\n",
       "       [12. ],\n",
       "       [16.5],\n",
       "       [17.9],\n",
       "       [ 7.2],\n",
       "       [11.8],\n",
       "       [13.2],\n",
       "       [ 4.8],\n",
       "       [15.6],\n",
       "       [12.6],\n",
       "       [17.4],\n",
       "       [ 9.2],\n",
       "       [13.7],\n",
       "       [19. ],\n",
       "       [22.4],\n",
       "       [24.4],\n",
       "       [11.3],\n",
       "       [14.6],\n",
       "       [18. ],\n",
       "       [17.5],\n",
       "       [ 5.6],\n",
       "       [20.5],\n",
       "       [ 9.7],\n",
       "       [17. ],\n",
       "       [15. ],\n",
       "       [20.9],\n",
       "       [18.9],\n",
       "       [10.5],\n",
       "       [21.4],\n",
       "       [11.9],\n",
       "       [13.2],\n",
       "       [17.4],\n",
       "       [11.9],\n",
       "       [17.8],\n",
       "       [25.4],\n",
       "       [14.7],\n",
       "       [10.1],\n",
       "       [21.5],\n",
       "       [16.6],\n",
       "       [17.1],\n",
       "       [20.7],\n",
       "       [17.9],\n",
       "       [ 8.5],\n",
       "       [16.1],\n",
       "       [10.6],\n",
       "       [23.2],\n",
       "       [19.8],\n",
       "       [ 9.7],\n",
       "       [16.4],\n",
       "       [10.7],\n",
       "       [22.6],\n",
       "       [21.2],\n",
       "       [20.2],\n",
       "       [23.7],\n",
       "       [ 5.5],\n",
       "       [13.2],\n",
       "       [23.8],\n",
       "       [18.4],\n",
       "       [ 8.1],\n",
       "       [24.2],\n",
       "       [20.7],\n",
       "       [14. ],\n",
       "       [16. ],\n",
       "       [11.3],\n",
       "       [11. ],\n",
       "       [13.4],\n",
       "       [18.9],\n",
       "       [22.3],\n",
       "       [18.3],\n",
       "       [12.4],\n",
       "       [ 8.8],\n",
       "       [11. ],\n",
       "       [17. ],\n",
       "       [ 8.7],\n",
       "       [ 6.9],\n",
       "       [14.2],\n",
       "       [ 5.3],\n",
       "       [11. ],\n",
       "       [11.8],\n",
       "       [17.3],\n",
       "       [11.3],\n",
       "       [13.6],\n",
       "       [21.7],\n",
       "       [20.2],\n",
       "       [12. ],\n",
       "       [16. ],\n",
       "       [12.9],\n",
       "       [16.7],\n",
       "       [14. ],\n",
       "       [ 7.3],\n",
       "       [19.4],\n",
       "       [22.2],\n",
       "       [11.5],\n",
       "       [16.9],\n",
       "       [16.7],\n",
       "       [20.5],\n",
       "       [25.4],\n",
       "       [17.2],\n",
       "       [16.7],\n",
       "       [19.8],\n",
       "       [19.7],\n",
       "       [20.7],\n",
       "       [15. ],\n",
       "       [ 7.2],\n",
       "       [12. ],\n",
       "       [ 5.3],\n",
       "       [19.8],\n",
       "       [18.4],\n",
       "       [21.8],\n",
       "       [17.1],\n",
       "       [20.9],\n",
       "       [14.6],\n",
       "       [12.6],\n",
       "       [12.2],\n",
       "       [ 9.4],\n",
       "       [15.9],\n",
       "       [ 6.6],\n",
       "       [15.5],\n",
       "       [ 7. ],\n",
       "       [16.6],\n",
       "       [15.2],\n",
       "       [19.7],\n",
       "       [10.6],\n",
       "       [ 6.6],\n",
       "       [11.9],\n",
       "       [24.7],\n",
       "       [ 9.7],\n",
       "       [ 1.6],\n",
       "       [17.7],\n",
       "       [ 5.7],\n",
       "       [19.6],\n",
       "       [10.8],\n",
       "       [11.6],\n",
       "       [ 9.5],\n",
       "       [20.8],\n",
       "       [ 9.6],\n",
       "       [20.7],\n",
       "       [10.9],\n",
       "       [19.2],\n",
       "       [20.1],\n",
       "       [10.4],\n",
       "       [12.3],\n",
       "       [10.3],\n",
       "       [18.2],\n",
       "       [25.4],\n",
       "       [10.9],\n",
       "       [10.1],\n",
       "       [16.1],\n",
       "       [11.6],\n",
       "       [16.6],\n",
       "       [16. ],\n",
       "       [20.6],\n",
       "       [ 3.2],\n",
       "       [15.3],\n",
       "       [10.1],\n",
       "       [ 7.3],\n",
       "       [12.9],\n",
       "       [16.4],\n",
       "       [13.3],\n",
       "       [19.9],\n",
       "       [18. ],\n",
       "       [11.9],\n",
       "       [16.9],\n",
       "       [ 8. ],\n",
       "       [17.2],\n",
       "       [17.1],\n",
       "       [20. ],\n",
       "       [ 8.4],\n",
       "       [17.5],\n",
       "       [ 7.6],\n",
       "       [16.7],\n",
       "       [16.5],\n",
       "       [27. ],\n",
       "       [20.2],\n",
       "       [16.7],\n",
       "       [16.8],\n",
       "       [17.6],\n",
       "       [15.5],\n",
       "       [17.2],\n",
       "       [ 8.7],\n",
       "       [26.2],\n",
       "       [17.6],\n",
       "       [22.6],\n",
       "       [10.3],\n",
       "       [17.3],\n",
       "       [20.9],\n",
       "       [ 6.7],\n",
       "       [10.8],\n",
       "       [11.9],\n",
       "       [ 5.9],\n",
       "       [19.6],\n",
       "       [17.3],\n",
       "       [ 7.6],\n",
       "       [14. ],\n",
       "       [14.8],\n",
       "       [25.5],\n",
       "       [18.4]])"
      ]
     },
     "execution_count": 66,
     "metadata": {},
     "output_type": "execute_result"
    }
   ],
   "source": [
    "y"
   ]
  },
  {
   "cell_type": "code",
   "execution_count": 67,
   "id": "5deeea59",
   "metadata": {},
   "outputs": [],
   "source": [
    "x_train,x_test,y_train,y_test=train_test_split(x,y,test_size=0.2,random_state=0)"
   ]
  },
  {
   "cell_type": "code",
   "execution_count": 68,
   "id": "d20717f3",
   "metadata": {},
   "outputs": [],
   "source": [
    "model=LinearRegression()"
   ]
  },
  {
   "cell_type": "code",
   "execution_count": 69,
   "id": "761a0a4c",
   "metadata": {},
   "outputs": [
    {
     "data": {
      "text/plain": [
       "LinearRegression()"
      ]
     },
     "execution_count": 69,
     "metadata": {},
     "output_type": "execute_result"
    }
   ],
   "source": [
    "model.fit(x_train,y_train)"
   ]
  },
  {
   "cell_type": "code",
   "execution_count": 70,
   "id": "7adaff15",
   "metadata": {},
   "outputs": [
    {
     "data": {
      "text/plain": [
       "array([[4.58640637, 1.64777093]])"
      ]
     },
     "execution_count": 70,
     "metadata": {},
     "output_type": "execute_result"
    }
   ],
   "source": [
    "model.coef_"
   ]
  },
  {
   "cell_type": "code",
   "execution_count": 71,
   "id": "2ea5d819",
   "metadata": {},
   "outputs": [
    {
     "data": {
      "text/plain": [
       "array([15.01852488])"
      ]
     },
     "execution_count": 71,
     "metadata": {},
     "output_type": "execute_result"
    }
   ],
   "source": [
    "model.intercept_"
   ]
  },
  {
   "cell_type": "code",
   "execution_count": 72,
   "id": "8b3a164c",
   "metadata": {},
   "outputs": [
    {
     "data": {
      "text/plain": [
       "89.88777400968775"
      ]
     },
     "execution_count": 72,
     "metadata": {},
     "output_type": "execute_result"
    }
   ],
   "source": [
    "traing_score=model.score(x_train,y_train)*100\n",
    "traing_score"
   ]
  },
  {
   "cell_type": "code",
   "execution_count": 73,
   "id": "e1404177",
   "metadata": {},
   "outputs": [
    {
     "data": {
      "text/plain": [
       "90.76343946874582"
      ]
     },
     "execution_count": 73,
     "metadata": {},
     "output_type": "execute_result"
    }
   ],
   "source": [
    "R2_score=r2_score(y_test,model.predict(x_test))*100\n",
    "R2_score"
   ]
  },
  {
   "cell_type": "code",
   "execution_count": 74,
   "id": "102a625a",
   "metadata": {},
   "outputs": [
    {
     "data": {
      "text/plain": [
       "1.1651808919549087"
      ]
     },
     "execution_count": 74,
     "metadata": {},
     "output_type": "execute_result"
    }
   ],
   "source": [
    "mae=mean_absolute_error(y_test,model.predict(x_test))\n",
    "mae"
   ]
  },
  {
   "cell_type": "code",
   "execution_count": 75,
   "id": "adadb03b",
   "metadata": {},
   "outputs": [
    {
     "data": {
      "text/plain": [
       "2.5698183851218315"
      ]
     },
     "execution_count": 75,
     "metadata": {},
     "output_type": "execute_result"
    }
   ],
   "source": [
    "mse=mean_squared_error(y_test,model.predict(x_test))\n",
    "mse"
   ]
  },
  {
   "cell_type": "code",
   "execution_count": 76,
   "id": "32081347",
   "metadata": {},
   "outputs": [],
   "source": [
    "y_pred=model.predict(x)"
   ]
  },
  {
   "cell_type": "code",
   "execution_count": 77,
   "id": "a44b4c47",
   "metadata": {},
   "outputs": [
    {
     "data": {
      "text/plain": [
       "array([[21.1377331 ],\n",
       "       [11.31660218],\n",
       "       [10.58108365],\n",
       "       [17.29699187],\n",
       "       [15.48361436],\n",
       "       [10.45712044],\n",
       "       [11.29369721],\n",
       "       [13.2006268 ],\n",
       "       [ 5.24984301],\n",
       "       [15.59463498],\n",
       "       [ 8.75540282],\n",
       "       [18.77510674],\n",
       "       [ 9.73581779],\n",
       "       [10.64523195],\n",
       "       [19.19392895],\n",
       "       [20.37079213],\n",
       "       [24.09845869],\n",
       "       [10.55615477],\n",
       "       [15.13693526],\n",
       "       [19.38547916],\n",
       "       [17.89591639],\n",
       "       [ 7.03127934],\n",
       "       [18.71779914],\n",
       "       [ 9.30674107],\n",
       "       [19.09032803],\n",
       "       [15.50037291],\n",
       "       [19.33057274],\n",
       "       [20.9547305 ],\n",
       "       [10.1313119 ],\n",
       "       [23.46130509],\n",
       "       [12.56325181],\n",
       "       [ 9.95106287],\n",
       "       [21.06962735],\n",
       "       [ 9.85922687],\n",
       "       [20.65304521],\n",
       "       [23.78499408],\n",
       "       [14.06441312],\n",
       "       [ 9.84075226],\n",
       "       [21.01360877],\n",
       "       [17.9296195 ],\n",
       "       [17.79114829],\n",
       "       [23.43228384],\n",
       "       [16.62139304],\n",
       "       [ 8.76095057],\n",
       "       [16.47734918],\n",
       "       [10.48113233],\n",
       "       [22.07637026],\n",
       "       [18.53633707],\n",
       "       [ 9.45424852],\n",
       "       [15.6502108 ],\n",
       "       [11.02359549],\n",
       "       [20.83397412],\n",
       "       [19.51524688],\n",
       "       [21.89170136],\n",
       "       [20.74809852],\n",
       "       [ 8.0698272 ],\n",
       "       [14.01718842],\n",
       "       [21.41071416],\n",
       "       [19.17118511],\n",
       "       [ 7.6549716 ],\n",
       "       [23.3613695 ],\n",
       "       [19.15413968],\n",
       "       [13.37039993],\n",
       "       [16.36591591],\n",
       "       [ 9.30049379],\n",
       "       [ 8.9830927 ],\n",
       "       [13.66159885],\n",
       "       [20.38571278],\n",
       "       [21.10003325],\n",
       "       [18.66921075],\n",
       "       [12.05185871],\n",
       "       [ 9.66384105],\n",
       "       [12.15070702],\n",
       "       [18.77183966],\n",
       "       [10.3204059 ],\n",
       "       [ 6.21134976],\n",
       "       [14.20602042],\n",
       "       [ 8.16765372],\n",
       "       [11.65190412],\n",
       "       [11.63275486],\n",
       "       [17.9139181 ],\n",
       "       [10.86218918],\n",
       "       [13.18074264],\n",
       "       [20.82241094],\n",
       "       [16.99565897],\n",
       "       [11.71629477],\n",
       "       [15.02357894],\n",
       "       [12.13975823],\n",
       "       [15.77543814],\n",
       "       [12.32547379],\n",
       "       [ 6.25942988],\n",
       "       [19.99248885],\n",
       "       [22.11256494],\n",
       "       [11.88935988],\n",
       "       [16.85382504],\n",
       "       [15.57628088],\n",
       "       [16.83799789],\n",
       "       [24.84522338],\n",
       "       [16.46428608],\n",
       "       [16.99978671],\n",
       "       [20.75490909],\n",
       "       [16.57706339],\n",
       "       [21.18459494],\n",
       "       [17.13199623],\n",
       "       [ 7.1216403 ],\n",
       "       [ 9.45174646],\n",
       "       [ 5.30304776],\n",
       "       [21.28767186],\n",
       "       [17.61624528],\n",
       "       [21.78420458],\n",
       "       [15.72046098],\n",
       "       [18.12274037],\n",
       "       [13.96376752],\n",
       "       [12.48535529],\n",
       "       [13.63398714],\n",
       "       [ 8.75392778],\n",
       "       [15.41952631],\n",
       "       [ 7.37604063],\n",
       "       [15.13639162],\n",
       "       [ 7.97731656],\n",
       "       [16.87470085],\n",
       "       [15.02396145],\n",
       "       [20.49411083],\n",
       "       [10.55778569],\n",
       "       [ 9.29717169],\n",
       "       [ 8.86949927],\n",
       "       [21.85525516],\n",
       "       [ 9.09475259],\n",
       "       [ 8.99289919],\n",
       "       [19.14740901],\n",
       "       [ 8.02898601],\n",
       "       [20.10549803],\n",
       "       [10.82981046],\n",
       "       [12.37696248],\n",
       "       [10.26617413],\n",
       "       [22.49476934],\n",
       "       [ 9.74644957],\n",
       "       [19.38337009],\n",
       "       [10.39314243],\n",
       "       [18.91214353],\n",
       "       [20.10982227],\n",
       "       [10.8161225 ],\n",
       "       [11.37556559],\n",
       "       [12.31490227],\n",
       "       [18.28574747],\n",
       "       [23.08759328],\n",
       "       [11.0779635 ],\n",
       "       [ 9.82681802],\n",
       "       [21.20419221],\n",
       "       [11.99877971],\n",
       "       [17.77708305],\n",
       "       [18.18466434],\n",
       "       [17.00517334],\n",
       "       [ 6.06362093],\n",
       "       [14.44184527],\n",
       "       [12.75944327],\n",
       "       [ 9.28474262],\n",
       "       [13.68610461],\n",
       "       [15.84836591],\n",
       "       [13.14470384],\n",
       "       [16.7040068 ],\n",
       "       [17.44257627],\n",
       "       [12.49454216],\n",
       "       [17.55089834],\n",
       "       [ 9.69619489],\n",
       "       [16.26032645],\n",
       "       [18.76831582],\n",
       "       [21.03112186],\n",
       "       [ 8.53367858],\n",
       "       [15.72907933],\n",
       "       [ 7.84252507],\n",
       "       [14.40506108],\n",
       "       [16.89975024],\n",
       "       [24.89000628],\n",
       "       [21.27777498],\n",
       "       [14.57973223],\n",
       "       [19.69957779],\n",
       "       [14.5767219 ],\n",
       "       [13.26987485],\n",
       "       [16.91217931],\n",
       "       [ 8.21153012],\n",
       "       [24.81002034],\n",
       "       [20.57912054],\n",
       "       [20.59841127],\n",
       "       [12.29408148],\n",
       "       [18.02751153],\n",
       "       [21.48940584],\n",
       "       [ 6.90487957],\n",
       "       [11.24760564],\n",
       "       [ 9.81701153],\n",
       "       [ 5.93494573],\n",
       "       [18.19815056],\n",
       "       [16.56656261],\n",
       "       [ 7.02057682],\n",
       "       [10.16753672],\n",
       "       [15.11239413],\n",
       "       [24.48361315],\n",
       "       [17.99973345]])"
      ]
     },
     "execution_count": 77,
     "metadata": {},
     "output_type": "execute_result"
    }
   ],
   "source": [
    "y_pred\n",
    "\n",
    "\n",
    "\n",
    "\n",
    "\n"
   ]
  },
  {
   "cell_type": "code",
   "execution_count": 78,
   "id": "e15b7264",
   "metadata": {},
   "outputs": [],
   "source": [
    "output=pd.DataFrame(zip(y,y_pred),columns=(\"actual\",\"predicted\"),dtype=float)"
   ]
  },
  {
   "cell_type": "code",
   "execution_count": 79,
   "id": "b4983be6",
   "metadata": {},
   "outputs": [
    {
     "data": {
      "image/png": "[encoded data removed]",
      "text/plain": [
       "<Figure size 1200x600 with 1 Axes>"
      ]
     },
     "metadata": {},
     "output_type": "display_data"
    }
   ],
   "source": [
    "plt.figure(figsize=(12,6))\n",
    "plt.title(\"PREDICTED VS ACTUAL DATA\")\n",
    "plt.xticks()\n",
    "sns.scatterplot(data=output,x=\"actual\",y=\"predicted\");"
   ]
  },
  {
   "cell_type": "code",
   "execution_count": 62,
   "id": "16860d8f",
   "metadata": {},
   "outputs": [],
   "source": [
    "from pydataset import data"
   ]
  },
  {
   "cell_type": "code",
   "execution_count": null,
   "id": "1d67d158",
   "metadata": {},
   "outputs": [],
   "source": []
  }
 ],
 "metadata": {
  "kernelspec": {
   "display_name": "Python 3 (ipykernel)",
   "language": "python",
   "name": "python3"
  },
  "language_info": {
   "codemirror_mode": {
    "name": "ipython",
    "version": 3
   },
   "file_extension": ".py",
   "mimetype": "text/x-python",
   "name": "python",
   "nbconvert_exporter": "python",
   "pygments_lexer": "ipython3",
   "version": "3.9.13"
  }
 },
 "nbformat": 4,
 "nbformat_minor": 5
}
